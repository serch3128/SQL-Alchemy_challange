{
 "cells": [
  {
   "cell_type": "code",
   "execution_count": 1,
   "metadata": {},
   "outputs": [],
   "source": [
    "%matplotlib inline\n",
    "from matplotlib import style\n",
    "style.use('fivethirtyeight')\n",
    "import matplotlib.pyplot as plt"
   ]
  },
  {
   "cell_type": "code",
   "execution_count": 2,
   "metadata": {},
   "outputs": [],
   "source": [
    "import numpy as np\n",
    "import pandas as pd"
   ]
  },
  {
   "cell_type": "code",
   "execution_count": 91,
   "metadata": {},
   "outputs": [],
   "source": [
    "import datetime as dt"
   ]
  },
  {
   "cell_type": "markdown",
   "metadata": {},
   "source": [
    "# Reflect Tables into SQLAlchemy ORM"
   ]
  },
  {
   "cell_type": "code",
   "execution_count": 7,
   "metadata": {},
   "outputs": [],
   "source": [
    "# Python SQL toolkit and Object Relational Mapper\n",
    "import sqlalchemy\n",
    "from sqlalchemy.ext.automap import automap_base\n",
    "from sqlalchemy.orm import Session\n",
    "from sqlalchemy import create_engine, func, inspect"
   ]
  },
  {
   "cell_type": "code",
   "execution_count": 11,
   "metadata": {},
   "outputs": [],
   "source": [
    "engine = create_engine(\"sqlite:///Resources/02-Homework_10-Advanced-Data-Storage-and-Retrieval_Instructions_Resources_hawaii.sqlite\")"
   ]
  },
  {
   "cell_type": "code",
   "execution_count": 15,
   "metadata": {},
   "outputs": [],
   "source": [
    "# reflect an existing database into a new model\n",
    "\n",
    "Base=automap_base()\n",
    "\n",
    "\n",
    "# reflect the tables\n",
    "\n",
    "Base.prepare(engine,reflect=True)"
   ]
  },
  {
   "cell_type": "code",
   "execution_count": 16,
   "metadata": {},
   "outputs": [
    {
     "name": "stdout",
     "output_type": "stream",
     "text": [
      "['measurement', 'station']\n",
      "['measurement', 'station']\n"
     ]
    }
   ],
   "source": [
    "# We can view all of the classes that automap found\n",
    "print(Base.classes.keys())\n",
    "print(inspect(engine).get_table_names())"
   ]
  },
  {
   "cell_type": "code",
   "execution_count": 17,
   "metadata": {},
   "outputs": [],
   "source": [
    "# Save references to each table\n",
    "Measurement=Base.classes.measurement\n",
    "Station=Base.classes.station"
   ]
  },
  {
   "cell_type": "code",
   "execution_count": 18,
   "metadata": {},
   "outputs": [],
   "source": [
    "# Create our session (link) from Python to the DB\n",
    "session=Session(engine)"
   ]
  },
  {
   "cell_type": "code",
   "execution_count": 36,
   "metadata": {
    "scrolled": true
   },
   "outputs": [
    {
     "data": {
      "text/plain": [
       "{'_sa_instance_state': <sqlalchemy.orm.state.InstanceState at 0x2a35c954e48>,\n",
       " 'station': 'USC00519397',\n",
       " 'prcp': 0.08,\n",
       " 'tobs': 65.0,\n",
       " 'id': 1,\n",
       " 'date': '2010-01-01'}"
      ]
     },
     "execution_count": 36,
     "metadata": {},
     "output_type": "execute_result"
    }
   ],
   "source": [
    "session.query(Measurement).first().__dict__"
   ]
  },
  {
   "cell_type": "code",
   "execution_count": 37,
   "metadata": {},
   "outputs": [
    {
     "data": {
      "text/plain": [
       "{'_sa_instance_state': <sqlalchemy.orm.state.InstanceState at 0x2a35c882248>,\n",
       " 'id': 1,\n",
       " 'latitude': 21.2716,\n",
       " 'station': 'USC00519397',\n",
       " 'elevation': 3.0,\n",
       " 'name': 'WAIKIKI 717.2, HI US',\n",
       " 'longitude': -157.8168}"
      ]
     },
     "execution_count": 37,
     "metadata": {},
     "output_type": "execute_result"
    }
   ],
   "source": [
    "session.query(Station).first().__dict__"
   ]
  },
  {
   "cell_type": "markdown",
   "metadata": {},
   "source": [
    "# Exploratory Climate Analysis"
   ]
  },
  {
   "cell_type": "code",
   "execution_count": 119,
   "metadata": {
    "scrolled": true
   },
   "outputs": [],
   "source": [
    "dates =session.query(Measurement.date,Measurement.prcp).\\\n",
    "order_by(Measurement.date.desc())\n",
    "\n",
    "date=[dates[x][0]for x in range(len(dates[:365]))]\n",
    "    "
   ]
  },
  {
   "cell_type": "code",
   "execution_count": 120,
   "metadata": {},
   "outputs": [
    {
     "data": {
      "text/plain": [
       "['2017-08-23',\n",
       " '2017-08-23',\n",
       " '2017-08-23',\n",
       " '2017-08-23',\n",
       " '2017-08-22',\n",
       " '2017-08-22',\n",
       " '2017-08-22',\n",
       " '2017-08-21',\n",
       " '2017-08-21',\n",
       " '2017-08-21',\n",
       " '2017-08-21',\n",
       " '2017-08-20',\n",
       " '2017-08-20',\n",
       " '2017-08-20',\n",
       " '2017-08-19',\n",
       " '2017-08-19',\n",
       " '2017-08-19',\n",
       " '2017-08-19',\n",
       " '2017-08-18',\n",
       " '2017-08-18',\n",
       " '2017-08-18',\n",
       " '2017-08-18',\n",
       " '2017-08-17',\n",
       " '2017-08-17',\n",
       " '2017-08-17',\n",
       " '2017-08-17',\n",
       " '2017-08-16',\n",
       " '2017-08-16',\n",
       " '2017-08-16',\n",
       " '2017-08-16',\n",
       " '2017-08-15',\n",
       " '2017-08-15',\n",
       " '2017-08-15',\n",
       " '2017-08-15',\n",
       " '2017-08-15',\n",
       " '2017-08-14',\n",
       " '2017-08-14',\n",
       " '2017-08-14',\n",
       " '2017-08-14',\n",
       " '2017-08-14',\n",
       " '2017-08-13',\n",
       " '2017-08-13',\n",
       " '2017-08-13',\n",
       " '2017-08-13',\n",
       " '2017-08-13',\n",
       " '2017-08-12',\n",
       " '2017-08-12',\n",
       " '2017-08-12',\n",
       " '2017-08-11',\n",
       " '2017-08-11',\n",
       " '2017-08-11',\n",
       " '2017-08-11',\n",
       " '2017-08-10',\n",
       " '2017-08-10',\n",
       " '2017-08-10',\n",
       " '2017-08-10',\n",
       " '2017-08-09',\n",
       " '2017-08-09',\n",
       " '2017-08-09',\n",
       " '2017-08-08',\n",
       " '2017-08-08',\n",
       " '2017-08-08',\n",
       " '2017-08-08',\n",
       " '2017-08-07',\n",
       " '2017-08-07',\n",
       " '2017-08-07',\n",
       " '2017-08-07',\n",
       " '2017-08-06',\n",
       " '2017-08-06',\n",
       " '2017-08-06',\n",
       " '2017-08-06',\n",
       " '2017-08-06',\n",
       " '2017-08-05',\n",
       " '2017-08-05',\n",
       " '2017-08-05',\n",
       " '2017-08-04',\n",
       " '2017-08-04',\n",
       " '2017-08-04',\n",
       " '2017-08-04',\n",
       " '2017-08-03',\n",
       " '2017-08-03',\n",
       " '2017-08-03',\n",
       " '2017-08-03',\n",
       " '2017-08-02',\n",
       " '2017-08-02',\n",
       " '2017-08-02',\n",
       " '2017-08-02',\n",
       " '2017-08-01',\n",
       " '2017-08-01',\n",
       " '2017-08-01',\n",
       " '2017-08-01',\n",
       " '2017-07-31',\n",
       " '2017-07-31',\n",
       " '2017-07-31',\n",
       " '2017-07-31',\n",
       " '2017-07-31',\n",
       " '2017-07-31',\n",
       " '2017-07-31',\n",
       " '2017-07-30',\n",
       " '2017-07-30',\n",
       " '2017-07-30',\n",
       " '2017-07-30',\n",
       " '2017-07-30',\n",
       " '2017-07-29',\n",
       " '2017-07-29',\n",
       " '2017-07-29',\n",
       " '2017-07-29',\n",
       " '2017-07-29',\n",
       " '2017-07-29',\n",
       " '2017-07-28',\n",
       " '2017-07-28',\n",
       " '2017-07-28',\n",
       " '2017-07-28',\n",
       " '2017-07-28',\n",
       " '2017-07-28',\n",
       " '2017-07-28',\n",
       " '2017-07-27',\n",
       " '2017-07-27',\n",
       " '2017-07-27',\n",
       " '2017-07-27',\n",
       " '2017-07-27',\n",
       " '2017-07-27',\n",
       " '2017-07-27',\n",
       " '2017-07-26',\n",
       " '2017-07-26',\n",
       " '2017-07-26',\n",
       " '2017-07-26',\n",
       " '2017-07-26',\n",
       " '2017-07-26',\n",
       " '2017-07-26',\n",
       " '2017-07-25',\n",
       " '2017-07-25',\n",
       " '2017-07-25',\n",
       " '2017-07-25',\n",
       " '2017-07-25',\n",
       " '2017-07-25',\n",
       " '2017-07-25',\n",
       " '2017-07-24',\n",
       " '2017-07-24',\n",
       " '2017-07-24',\n",
       " '2017-07-24',\n",
       " '2017-07-24',\n",
       " '2017-07-24',\n",
       " '2017-07-23',\n",
       " '2017-07-23',\n",
       " '2017-07-23',\n",
       " '2017-07-23',\n",
       " '2017-07-23',\n",
       " '2017-07-22',\n",
       " '2017-07-22',\n",
       " '2017-07-22',\n",
       " '2017-07-22',\n",
       " '2017-07-22',\n",
       " '2017-07-22',\n",
       " '2017-07-21',\n",
       " '2017-07-21',\n",
       " '2017-07-21',\n",
       " '2017-07-21',\n",
       " '2017-07-21',\n",
       " '2017-07-21',\n",
       " '2017-07-21',\n",
       " '2017-07-20',\n",
       " '2017-07-20',\n",
       " '2017-07-20',\n",
       " '2017-07-20',\n",
       " '2017-07-20',\n",
       " '2017-07-20',\n",
       " '2017-07-20',\n",
       " '2017-07-19',\n",
       " '2017-07-19',\n",
       " '2017-07-19',\n",
       " '2017-07-19',\n",
       " '2017-07-19',\n",
       " '2017-07-19',\n",
       " '2017-07-18',\n",
       " '2017-07-18',\n",
       " '2017-07-18',\n",
       " '2017-07-18',\n",
       " '2017-07-18',\n",
       " '2017-07-18',\n",
       " '2017-07-18',\n",
       " '2017-07-17',\n",
       " '2017-07-17',\n",
       " '2017-07-17',\n",
       " '2017-07-17',\n",
       " '2017-07-17',\n",
       " '2017-07-17',\n",
       " '2017-07-16',\n",
       " '2017-07-16',\n",
       " '2017-07-16',\n",
       " '2017-07-16',\n",
       " '2017-07-16',\n",
       " '2017-07-16',\n",
       " '2017-07-15',\n",
       " '2017-07-15',\n",
       " '2017-07-15',\n",
       " '2017-07-15',\n",
       " '2017-07-15',\n",
       " '2017-07-15',\n",
       " '2017-07-14',\n",
       " '2017-07-14',\n",
       " '2017-07-14',\n",
       " '2017-07-14',\n",
       " '2017-07-14',\n",
       " '2017-07-14',\n",
       " '2017-07-13',\n",
       " '2017-07-13',\n",
       " '2017-07-13',\n",
       " '2017-07-13',\n",
       " '2017-07-13',\n",
       " '2017-07-13',\n",
       " '2017-07-13',\n",
       " '2017-07-12',\n",
       " '2017-07-12',\n",
       " '2017-07-12',\n",
       " '2017-07-12',\n",
       " '2017-07-12',\n",
       " '2017-07-12',\n",
       " '2017-07-12',\n",
       " '2017-07-11',\n",
       " '2017-07-11',\n",
       " '2017-07-11',\n",
       " '2017-07-11',\n",
       " '2017-07-11',\n",
       " '2017-07-11',\n",
       " '2017-07-11',\n",
       " '2017-07-10',\n",
       " '2017-07-10',\n",
       " '2017-07-10',\n",
       " '2017-07-10',\n",
       " '2017-07-10',\n",
       " '2017-07-10',\n",
       " '2017-07-10',\n",
       " '2017-07-09',\n",
       " '2017-07-09',\n",
       " '2017-07-09',\n",
       " '2017-07-09',\n",
       " '2017-07-09',\n",
       " '2017-07-09',\n",
       " '2017-07-08',\n",
       " '2017-07-08',\n",
       " '2017-07-08',\n",
       " '2017-07-08',\n",
       " '2017-07-08',\n",
       " '2017-07-08',\n",
       " '2017-07-07',\n",
       " '2017-07-07',\n",
       " '2017-07-07',\n",
       " '2017-07-07',\n",
       " '2017-07-07',\n",
       " '2017-07-07',\n",
       " '2017-07-07',\n",
       " '2017-07-06',\n",
       " '2017-07-06',\n",
       " '2017-07-06',\n",
       " '2017-07-06',\n",
       " '2017-07-06',\n",
       " '2017-07-06',\n",
       " '2017-07-05',\n",
       " '2017-07-05',\n",
       " '2017-07-05',\n",
       " '2017-07-05',\n",
       " '2017-07-05',\n",
       " '2017-07-05',\n",
       " '2017-07-05',\n",
       " '2017-07-04',\n",
       " '2017-07-04',\n",
       " '2017-07-04',\n",
       " '2017-07-04',\n",
       " '2017-07-03',\n",
       " '2017-07-03',\n",
       " '2017-07-03',\n",
       " '2017-07-03',\n",
       " '2017-07-03',\n",
       " '2017-07-03',\n",
       " '2017-07-03',\n",
       " '2017-07-02',\n",
       " '2017-07-02',\n",
       " '2017-07-02',\n",
       " '2017-07-02',\n",
       " '2017-07-02',\n",
       " '2017-07-01',\n",
       " '2017-07-01',\n",
       " '2017-07-01',\n",
       " '2017-07-01',\n",
       " '2017-06-30',\n",
       " '2017-06-30',\n",
       " '2017-06-30',\n",
       " '2017-06-30',\n",
       " '2017-06-30',\n",
       " '2017-06-30',\n",
       " '2017-06-30',\n",
       " '2017-06-29',\n",
       " '2017-06-29',\n",
       " '2017-06-29',\n",
       " '2017-06-29',\n",
       " '2017-06-29',\n",
       " '2017-06-29',\n",
       " '2017-06-29',\n",
       " '2017-06-28',\n",
       " '2017-06-28',\n",
       " '2017-06-28',\n",
       " '2017-06-28',\n",
       " '2017-06-28',\n",
       " '2017-06-28',\n",
       " '2017-06-27',\n",
       " '2017-06-27',\n",
       " '2017-06-27',\n",
       " '2017-06-27',\n",
       " '2017-06-27',\n",
       " '2017-06-27',\n",
       " '2017-06-26',\n",
       " '2017-06-26',\n",
       " '2017-06-26',\n",
       " '2017-06-26',\n",
       " '2017-06-26',\n",
       " '2017-06-26',\n",
       " '2017-06-26',\n",
       " '2017-06-25',\n",
       " '2017-06-25',\n",
       " '2017-06-25',\n",
       " '2017-06-25',\n",
       " '2017-06-25',\n",
       " '2017-06-24',\n",
       " '2017-06-24',\n",
       " '2017-06-24',\n",
       " '2017-06-24',\n",
       " '2017-06-24',\n",
       " '2017-06-23',\n",
       " '2017-06-23',\n",
       " '2017-06-23',\n",
       " '2017-06-23',\n",
       " '2017-06-23',\n",
       " '2017-06-23',\n",
       " '2017-06-23',\n",
       " '2017-06-22',\n",
       " '2017-06-22',\n",
       " '2017-06-22',\n",
       " '2017-06-22',\n",
       " '2017-06-22',\n",
       " '2017-06-22',\n",
       " '2017-06-21',\n",
       " '2017-06-21',\n",
       " '2017-06-21',\n",
       " '2017-06-21',\n",
       " '2017-06-21',\n",
       " '2017-06-21',\n",
       " '2017-06-20',\n",
       " '2017-06-20',\n",
       " '2017-06-20',\n",
       " '2017-06-20',\n",
       " '2017-06-20',\n",
       " '2017-06-20',\n",
       " '2017-06-19',\n",
       " '2017-06-19',\n",
       " '2017-06-19',\n",
       " '2017-06-19',\n",
       " '2017-06-19',\n",
       " '2017-06-19',\n",
       " '2017-06-19',\n",
       " '2017-06-18',\n",
       " '2017-06-18',\n",
       " '2017-06-18',\n",
       " '2017-06-18',\n",
       " '2017-06-18']"
      ]
     },
     "execution_count": 120,
     "metadata": {},
     "output_type": "execute_result"
    }
   ],
   "source": [
    "date"
   ]
  },
  {
   "cell_type": "code",
   "execution_count": 118,
   "metadata": {},
   "outputs": [
    {
     "data": {
      "text/plain": [
       "8"
      ]
     },
     "execution_count": 118,
     "metadata": {},
     "output_type": "execute_result"
    }
   ],
   "source": [
    "import datetime\n",
    "datetime_obj = datetime.datetime.strptime(a,'%Y-%m-%d')\n",
    "datetime_obj.month"
   ]
  },
  {
   "cell_type": "code",
   "execution_count": 86,
   "metadata": {},
   "outputs": [
    {
     "ename": "AttributeError",
     "evalue": "'list' object has no attribute 'strptime'",
     "output_type": "error",
     "traceback": [
      "\u001b[1;31m---------------------------------------------------------------------------\u001b[0m",
      "\u001b[1;31mAttributeError\u001b[0m                            Traceback (most recent call last)",
      "\u001b[1;32m<ipython-input-86-f7a116276455>\u001b[0m in \u001b[0;36m<module>\u001b[1;34m\u001b[0m\n\u001b[0;32m      1\u001b[0m \u001b[0mb\u001b[0m\u001b[1;33m=\u001b[0m\u001b[1;34m'30/09/2020'\u001b[0m\u001b[1;33m\u001b[0m\u001b[1;33m\u001b[0m\u001b[0m\n\u001b[1;32m----> 2\u001b[1;33m \u001b[0mdatetime_obj\u001b[0m \u001b[1;33m=\u001b[0m \u001b[0mdt\u001b[0m\u001b[1;33m.\u001b[0m\u001b[0mstrptime\u001b[0m\u001b[1;33m(\u001b[0m\u001b[0mb\u001b[0m\u001b[1;33m,\u001b[0m\u001b[1;34m'%d/%m/%Y'\u001b[0m\u001b[1;33m)\u001b[0m\u001b[1;33m\u001b[0m\u001b[1;33m\u001b[0m\u001b[0m\n\u001b[0m",
      "\u001b[1;31mAttributeError\u001b[0m: 'list' object has no attribute 'strptime'"
     ]
    }
   ],
   "source": []
  },
  {
   "cell_type": "code",
   "execution_count": null,
   "metadata": {},
   "outputs": [],
   "source": [
    "# Design a query to retrieve the last 12 months of precipitation data and plot the results\n",
    "\n",
    "# Calculate the date 1 year ago from the last data point in the database\n",
    "\n",
    "# Perform a query to retrieve the data and precipitation scores\n",
    "\n",
    "# Save the query results as a Pandas DataFrame and set the index to the date column\n",
    "\n",
    "# Sort the dataframe by date\n",
    "\n",
    "# Use Pandas Plotting with Matplotlib to plot the data\n"
   ]
  },
  {
   "cell_type": "code",
   "execution_count": null,
   "metadata": {},
   "outputs": [],
   "source": [
    "# Use Pandas to calcualte the summary statistics for the precipitation data"
   ]
  },
  {
   "cell_type": "code",
   "execution_count": null,
   "metadata": {},
   "outputs": [],
   "source": [
    "# Design a query to show how many stations are available in this dataset?\n"
   ]
  },
  {
   "cell_type": "code",
   "execution_count": null,
   "metadata": {},
   "outputs": [],
   "source": [
    "# What are the most active stations? (i.e. what stations have the most rows)?\n",
    "# List the stations and the counts in descending order.\n"
   ]
  },
  {
   "cell_type": "code",
   "execution_count": null,
   "metadata": {},
   "outputs": [],
   "source": [
    "# Using the station id from the previous query, calculate the lowest temperature recorded, \n",
    "# highest temperature recorded, and average temperature of the most active station?\n"
   ]
  },
  {
   "cell_type": "code",
   "execution_count": null,
   "metadata": {},
   "outputs": [],
   "source": [
    "# Choose the station with the highest number of temperature observations.\n",
    "# Query the last 12 months of temperature observation data for this station and plot the results as a histogram\n"
   ]
  },
  {
   "cell_type": "markdown",
   "metadata": {},
   "source": [
    "## Bonus Challenge Assignment"
   ]
  },
  {
   "cell_type": "code",
   "execution_count": null,
   "metadata": {},
   "outputs": [],
   "source": [
    "# This function called `calc_temps` will accept start date and end date in the format '%Y-%m-%d' \n",
    "# and return the minimum, average, and maximum temperatures for that range of dates\n",
    "def calc_temps(start_date, end_date):\n",
    "    \"\"\"TMIN, TAVG, and TMAX for a list of dates.\n",
    "    \n",
    "    Args:\n",
    "        start_date (string): A date string in the format %Y-%m-%d\n",
    "        end_date (string): A date string in the format %Y-%m-%d\n",
    "        \n",
    "    Returns:\n",
    "        TMIN, TAVE, and TMAX\n",
    "    \"\"\"\n",
    "    \n",
    "    return session.query(func.min(Measurement.tobs), func.avg(Measurement.tobs), func.max(Measurement.tobs)).\\\n",
    "        filter(Measurement.date >= start_date).filter(Measurement.date <= end_date).all()\n",
    "\n",
    "# function usage example\n",
    "print(calc_temps('2012-02-28', '2012-03-05'))"
   ]
  },
  {
   "cell_type": "code",
   "execution_count": null,
   "metadata": {},
   "outputs": [],
   "source": [
    "# Use your previous function `calc_temps` to calculate the tmin, tavg, and tmax \n",
    "# for your trip using the previous year's data for those same dates.\n"
   ]
  },
  {
   "cell_type": "code",
   "execution_count": null,
   "metadata": {},
   "outputs": [],
   "source": [
    "# Plot the results from your previous query as a bar chart. \n",
    "# Use \"Trip Avg Temp\" as your Title\n",
    "# Use the average temperature for the y value\n",
    "# Use the peak-to-peak (tmax-tmin) value as the y error bar (yerr)\n"
   ]
  },
  {
   "cell_type": "code",
   "execution_count": null,
   "metadata": {},
   "outputs": [],
   "source": [
    "# Calculate the total amount of rainfall per weather station for your trip dates using the previous year's matching dates.\n",
    "# Sort this in descending order by precipitation amount and list the station, name, latitude, longitude, and elevation\n",
    "\n"
   ]
  },
  {
   "cell_type": "code",
   "execution_count": null,
   "metadata": {},
   "outputs": [],
   "source": [
    "# Create a query that will calculate the daily normals \n",
    "# (i.e. the averages for tmin, tmax, and tavg for all historic data matching a specific month and day)\n",
    "\n",
    "def daily_normals(date):\n",
    "    \"\"\"Daily Normals.\n",
    "    \n",
    "    Args:\n",
    "        date (str): A date string in the format '%m-%d'\n",
    "        \n",
    "    Returns:\n",
    "        A list of tuples containing the daily normals, tmin, tavg, and tmax\n",
    "    \n",
    "    \"\"\"\n",
    "    \n",
    "    sel = [func.min(Measurement.tobs), func.avg(Measurement.tobs), func.max(Measurement.tobs)]\n",
    "    return session.query(*sel).filter(func.strftime(\"%m-%d\", Measurement.date) == date).all()\n",
    "    \n",
    "daily_normals(\"01-01\")"
   ]
  },
  {
   "cell_type": "code",
   "execution_count": null,
   "metadata": {},
   "outputs": [],
   "source": [
    "# calculate the daily normals for your trip\n",
    "# push each tuple of calculations into a list called `normals`\n",
    "\n",
    "# Set the start and end date of the trip\n",
    "\n",
    "# Use the start and end date to create a range of dates\n",
    "\n",
    "# Stip off the year and save a list of %m-%d strings\n",
    "\n",
    "# Loop through the list of %m-%d strings and calculate the normals for each date\n"
   ]
  },
  {
   "cell_type": "code",
   "execution_count": null,
   "metadata": {},
   "outputs": [],
   "source": [
    "# Load the previous query results into a Pandas DataFrame and add the `trip_dates` range as the `date` index\n"
   ]
  },
  {
   "cell_type": "code",
   "execution_count": null,
   "metadata": {},
   "outputs": [],
   "source": [
    "# Plot the daily normals as an area plot with `stacked=False`\n"
   ]
  }
 ],
 "metadata": {
  "kernel_info": {
   "name": "python3"
  },
  "kernelspec": {
   "display_name": "Python 3",
   "language": "python",
   "name": "python3"
  },
  "language_info": {
   "codemirror_mode": {
    "name": "ipython",
    "version": 3
   },
   "file_extension": ".py",
   "mimetype": "text/x-python",
   "name": "python",
   "nbconvert_exporter": "python",
   "pygments_lexer": "ipython3",
   "version": "3.7.6"
  },
  "nteract": {
   "version": "0.12.3"
  },
  "varInspector": {
   "cols": {
    "lenName": 16,
    "lenType": 16,
    "lenVar": 40
   },
   "kernels_config": {
    "python": {
     "delete_cmd_postfix": "",
     "delete_cmd_prefix": "del ",
     "library": "var_list.py",
     "varRefreshCmd": "print(var_dic_list())"
    },
    "r": {
     "delete_cmd_postfix": ") ",
     "delete_cmd_prefix": "rm(",
     "library": "var_list.r",
     "varRefreshCmd": "cat(var_dic_list()) "
    }
   },
   "types_to_exclude": [
    "module",
    "function",
    "builtin_function_or_method",
    "instance",
    "_Feature"
   ],
   "window_display": false
  }
 },
 "nbformat": 4,
 "nbformat_minor": 2
}
